{
 "cells": [
  {
   "cell_type": "markdown",
   "id": "4d3b4e8f-c7d8-4aec-ba0b-0e65995a572c",
   "metadata": {},
   "source": [
    "# Monty Hall Game"
   ]
  },
  {
   "cell_type": "markdown",
   "id": "1de5070b-382c-45aa-b303-f0e2005148ca",
   "metadata": {},
   "source": [
    "##### You are a contestant on Monty Hall Game Show. On the stage in front of you are THREE Doors. Behind two of the doors are GOATS, behind the remaining door is a CAR.\n",
    "\n",
    "##### At the start of the game, host asks you to pick a door. The host then opens one of the other two doors, and reveals a goat. Then he asks you if you would like to stay with your original pick or switch to the remaining door. Then he will show you what you will get on the basis of your final decision.\n",
    "\n",
    "## Facts\n",
    "#### Host knows what's behind every door (Location of Car and Goats)\n",
    "#### You have to pick ANY ONE door 1st\n",
    "#### Host will always choose another door to reveal the goat\n",
    "#### Host can't choose your pick\n",
    "#### Host will ask you to switch between your pick and the remaining un-revealed one door\n",
    "#### Finally he will reveal the what's behind your final decision\n",
    "\n",
    "##### It seems like switching between doors won't make any difference in winning the car. But NO, statistical facts says something else. You will increase your chances to win the car if you switch. Before switching your winning chances were only 1/3 but adter switching they get double (2/3). So, you should switch.\n",
    "\n",
    "#### This PYTHON program is the simulation of Monty Hall Game Show. You can also modify it for user manual input. But for the sake of simplicity and practical illustration of the problem we are just going to show the statistical facts."
   ]
  },
  {
   "cell_type": "code",
   "execution_count": 1,
   "id": "c3c10a50-ac4e-48fb-8b17-7125c7d33e30",
   "metadata": {},
   "outputs": [],
   "source": [
    "# Importig required files\n",
    "import numpy as np"
   ]
  },
  {
   "cell_type": "code",
   "execution_count": 2,
   "id": "d027f8fa-c610-4d27-9ce1-e526f9faa67a",
   "metadata": {},
   "outputs": [],
   "source": [
    "# Function that will start the Monty Hall Game\n",
    "def play_with_monty_hall():\n",
    "    \n",
    "    # Number of times we are going to experiment / Play\n",
    "    PLAY_TURNS = 10000\n",
    "\n",
    "    # Array of the different random doors with the car\n",
    "    cars = np.random.randint(0, high=3, size=PLAY_TURNS) + 1\n",
    "\n",
    "    # Array of the different doors, and picks at random\n",
    "    picks = np.random.randint(0, high=3, size=PLAY_TURNS) + 1\n",
    "\n",
    "    # Counters for wins if stay and switch\n",
    "    stay_wins = switch_wins = 0 \n",
    "    \n",
    "    for current_turn in range(PLAY_TURNS):\n",
    "        \n",
    "        # Array of 3 doors\n",
    "        doors_round_1 = [1,2,3]\n",
    "\n",
    "        # First we have to remove both the car and the pick to avoid any biasness\n",
    "        doors_round_1.remove(picks[current_turn])\n",
    "        if cars[current_turn] != picks[current_turn]:\n",
    "            doors_round_1.remove(cars[current_turn])\n",
    "\n",
    "        # Open one door at random from door 1, 2, or 3\n",
    "        open_door = doors_round_1[np.random.randint(len(doors_round_1))]\n",
    "        \n",
    "        # Creating new Array of door for switching and removing the Door that just opened by the host\n",
    "        doors_round_2 = [1,2,3]\n",
    "        doors_round_2.remove(open_door)\n",
    "\n",
    "        # Removing the picked up door for Switching\n",
    "        # Now, there is only door that player can switch to\n",
    "        # Switching the door\n",
    "        doors_round_2.remove(picks[current_turn])\n",
    "        pick2 = doors_round_2[0]\n",
    "\n",
    "        # Counting wins at staying with the original door\n",
    "        if  cars[current_turn] == picks[current_turn]:\n",
    "            stay_wins += 1\n",
    "            \n",
    "        # Counting wins on switching the door\n",
    "        if  cars[current_turn] == pick2:\n",
    "            switch_wins += 1\n",
    "\n",
    "    print(f\"Winning Percentage at Staying with original picked Door : {100 * stay_wins / PLAY_TURNS}\")\n",
    "    print(f\"Winning   Percentage  on   Switching   to   other  Door : {100 * switch_wins / PLAY_TURNS}\")"
   ]
  },
  {
   "cell_type": "code",
   "execution_count": 3,
   "id": "5a5a5c65-d820-4ee9-a2a1-afc2e234d67b",
   "metadata": {},
   "outputs": [
    {
     "name": "stdout",
     "output_type": "stream",
     "text": [
      "Winning Percentage at Staying with original picked Door : 33.53\n",
      "Winning   Percentage  on   Switching   to   other  Door : 66.47\n"
     ]
    }
   ],
   "source": [
    "play_with_monty_hall()"
   ]
  },
  {
   "cell_type": "code",
   "execution_count": 4,
   "id": "c71a92d2-f00d-4033-8dae-537d9dad5746",
   "metadata": {},
   "outputs": [
    {
     "name": "stdout",
     "output_type": "stream",
     "text": [
      "Winning Percentage at Staying with original picked Door : 33.09\n",
      "Winning   Percentage  on   Switching   to   other  Door : 66.91\n"
     ]
    }
   ],
   "source": [
    "play_with_monty_hall()"
   ]
  },
  {
   "cell_type": "code",
   "execution_count": 5,
   "id": "6c075e4c-636d-4055-bede-6624598ed463",
   "metadata": {},
   "outputs": [
    {
     "name": "stdout",
     "output_type": "stream",
     "text": [
      "Winning Percentage at Staying with original picked Door : 33.12\n",
      "Winning   Percentage  on   Switching   to   other  Door : 66.88\n"
     ]
    }
   ],
   "source": [
    "play_with_monty_hall()"
   ]
  },
  {
   "cell_type": "code",
   "execution_count": 6,
   "id": "5f6fd75c-45ab-4182-91af-bcdb6edb1b3a",
   "metadata": {},
   "outputs": [
    {
     "name": "stdout",
     "output_type": "stream",
     "text": [
      "Winning Percentage at Staying with original picked Door : 32.73\n",
      "Winning   Percentage  on   Switching   to   other  Door : 67.27\n"
     ]
    }
   ],
   "source": [
    "play_with_monty_hall()"
   ]
  },
  {
   "cell_type": "code",
   "execution_count": 7,
   "id": "b91d96cf-e610-49b4-ad97-726a3a95e155",
   "metadata": {},
   "outputs": [
    {
     "name": "stdout",
     "output_type": "stream",
     "text": [
      "Winning Percentage at Staying with original picked Door : 33.39\n",
      "Winning   Percentage  on   Switching   to   other  Door : 66.61\n"
     ]
    }
   ],
   "source": [
    "play_with_monty_hall()"
   ]
  }
 ],
 "metadata": {
  "kernelspec": {
   "display_name": "Python 3 (ipykernel)",
   "language": "python",
   "name": "python3"
  },
  "language_info": {
   "codemirror_mode": {
    "name": "ipython",
    "version": 3
   },
   "file_extension": ".py",
   "mimetype": "text/x-python",
   "name": "python",
   "nbconvert_exporter": "python",
   "pygments_lexer": "ipython3",
   "version": "3.9.6"
  }
 },
 "nbformat": 4,
 "nbformat_minor": 5
}
